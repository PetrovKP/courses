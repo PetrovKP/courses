{
 "cells": [
  {
   "cell_type": "markdown",
   "metadata": {},
   "source": [
    "## Лабораторная работа №2\n",
    "\n",
    "**Петров Кирилл**"
   ]
  },
  {
   "cell_type": "code",
   "execution_count": 2,
   "metadata": {},
   "outputs": [],
   "source": [
    "%matplotlib inline  \n",
    "import matplotlib.pyplot as plt\n",
    "import numpy as np\n",
    "import math\n",
    "plt.rcParams.update({'font.size': 14})"
   ]
  },
  {
   "cell_type": "markdown",
   "metadata": {},
   "source": [
    "### Задача №1"
   ]
  },
  {
   "cell_type": "markdown",
   "metadata": {},
   "source": [
    "#### Постановка:\n",
    "Рассмотрим математическую модель генной регулиризации - авторегрессор с задержкой. Эта система описывается уравнением :\n",
    "$$\n",
    "\\dot x=\\frac{\\alpha}{1 + x_{\\tau}^{n}} - x \n",
    "$$\n",
    "Где $n$ - размерность белка, $\\alpha > 0$, коэффициент синтеза, $x$ - концетрация белка в клетке, $x_{\\tau}$ - концетрация с задержкой $\\tau$. Состояние равновесия не изменяется с появлением задержки в уравнении, поэтому рассмотрим вопрос об устойчивости.\n",
    "\n",
    "Для систем с задержкой вида $\\dot x = f(x_\\tau) + g(x)$ известно, что собственные числа имееют следующий вид:\n",
    "\n",
    "$$\n",
    "\\begin{cases}\n",
    "    \\lambda _1=f'(x^*)e^{-\\lambda _1\\tau}cos(\\lambda _2\\tau) + g'(x^*) \\\\\n",
    "    \\lambda _2=-f'(x^*)e^{-\\lambda _1\\tau}sin(\\lambda _2\\tau) \\\\\n",
    "\\end{cases}\n",
    "$$\n",
    "\n",
    "Где $x^*$ - соостояние равновесия.\n",
    "\n",
    "Система будет устойчивой, если $Re(\\lambda _i) < 0$. И неустойчивой, если $Re(\\lambda _i) > 0$.\n",
    "\n",
    "В нашем случае $Re(\\lambda _i = \\lambda _1)$ и:\n",
    "$$\n",
    "f=\\frac{\\alpha}{1 + x_{\\tau}^{n}}\n",
    "$$\n",
    "$$\n",
    "g = -x\n",
    "$$\n",
    "$$\n",
    "f'(x^*)=\\frac{\\alpha n{x^*}^{n-1}}{(1 + {x^*}^{n})^2} = -\\beta\n",
    "$$\n",
    "$$\n",
    "g'(x^*)=-1\n",
    "$$\n",
    "\n",
    "Тогда в нашем случае $\\lambda _1$ и $\\lambda _2$ имееют вид:\n",
    "\n",
    "$$\n",
    "\\begin{cases}\n",
    "    \\lambda _1=-\\beta e^{-\\lambda _1\\tau}cos(\\lambda _2\\tau) - 1 \\\\\n",
    "    \\lambda _2=\\beta e^{-\\lambda _1\\tau}sin(\\lambda _2\\tau) \\\\\n",
    "\\end{cases}\n",
    "$$\n",
    "\n",
    "Найдем точки биффуркации, определив смену знака $\\lambda _1$, отвечающего за устойчивость системы. При $\\lambda_1 = 0$ выразим $\\tau $:\n",
    "$$\n",
    "\\begin{cases}\n",
    "    -\\beta cos(\\lambda _2\\tau) = 1 \\\\\n",
    "    \\lambda _2=\\beta sin(\\lambda _2\\tau) \\\\\n",
    "\\end{cases}\n",
    "\\to\n",
    "\\begin{cases}\n",
    "    \\tau = \\frac{1}{\\lambda _2}arccos\\big(-\\frac{1}{\\beta}\\big) \\\\\n",
    "    \\lambda _2^2=\\beta ^2 - 1\n",
    "\\end{cases}\n",
    "$$\n",
    "\n",
    "Для поиска $\\tau$ нужно вычислить $\\beta$, а для него требуется знать состояния равновесия $x^*$, которое мы можем найти численно с помощью метода Ньютона, как корень уравнения $ f(x) = x^n + x - \\alpha $.\n",
    "\n",
    "#### Задание:\n",
    "1. При разных $n$ построить графики зависимости $\\tau(\\alpha)$.\n",
    "\n",
    "#### Решение:"
   ]
  },
  {
   "cell_type": "markdown",
   "metadata": {},
   "source": [
    "Для авторегрессора значение функции принимает значение: $ f(x) = x^n + x - \\alpha $. А производная: $ f'(x) = nx^{n-1} + 1 $"
   ]
  },
  {
   "cell_type": "code",
   "execution_count": 3,
   "metadata": {},
   "outputs": [],
   "source": [
    "class AutoRegressor:\n",
    "    def __init__(self, alpha, n):\n",
    "        self.alpha, self.n = alpha, n\n",
    "        \n",
    "    def value(self, x):\n",
    "        return x**self.n + x - self.alpha\n",
    "    \n",
    "    def derivative(self, x):\n",
    "        return self.n * x**(self.n - 1) + 1.0"
   ]
  },
  {
   "cell_type": "markdown",
   "metadata": {},
   "source": [
    "Метод Ньютона:\n",
    "$$ x_{n+1} = x_{n} - \\frac{f(x_n)}{f'(x_n)}$$\n",
    "\n",
    "Критерий остановки:\n",
    "\n",
    "$$ \\big|f(x_{n+1} - f(x_n)\\big| < \\epsilon $$"
   ]
  },
  {
   "cell_type": "code",
   "execution_count": 4,
   "metadata": {},
   "outputs": [],
   "source": [
    "def newton(f, x0, max_iter = 1000, eps = 1e-8):\n",
    "    x = x0\n",
    "    path = []\n",
    "    for it in range(max_iter):\n",
    "        xn = x - f.value(x) / f.derivative(x)\n",
    "        path.append(math.fabs(xn - x))\n",
    "        if path[-1] <= eps:\n",
    "            break\n",
    "        x = xn\n",
    "    return xn, path\n"
   ]
  },
  {
   "cell_type": "markdown",
   "metadata": {},
   "source": [
    "Вычисление ${\\tau}$ по формулам выведеным ранее:\n",
    "$$\n",
    "\\begin{cases}\n",
    "    \\tau = \\frac{1}{\\lambda _2}arccos\\big(-\\frac{1}{\\beta}\\big) \\\\\n",
    "    \\lambda _2^2=\\beta ^2 - 1 \\\\\n",
    "     -\\beta = \\frac{\\alpha n{x^*}^{n-1}}{(1 + {x^*}^{n})^2}\n",
    "\\end{cases}\n",
    "$$"
   ]
  },
  {
   "cell_type": "code",
   "execution_count": 34,
   "metadata": {},
   "outputs": [],
   "source": [
    "def get_tau(alpha, n, x):\n",
    "    beta = alpha * n * x**(n - 1) / (1 + x**n)**2\n",
    "    if beta < 1:\n",
    "        return None\n",
    "    inv_lambda_2 = 1.0 / math.sqrt(beta**2 - 1)\n",
    "    return inv_lambda_2 * math.acos(1.0/beta)"
   ]
  },
  {
   "cell_type": "markdown",
   "metadata": {},
   "source": [
    "При разных $n$ графики зависимости задержкт $\\tau$ от параметра $\\alpha$ при $n = \\{2, 4, 6\\}$ и $\\alpha \\in [0; 10]$."
   ]
  },
  {
   "cell_type": "code",
   "execution_count": 35,
   "metadata": {},
   "outputs": [
    {
     "data": {
      "image/png": "[encoded data removed]",
      "text/plain": [
       "<Figure size 648x432 with 1 Axes>"
      ]
     },
     "metadata": {},
     "output_type": "display_data"
    }
   ],
   "source": [
    "fig = plt.figure(figsize=(9,6))\n",
    "ax = fig.add_subplot(111)\n",
    "\n",
    "n_arr = [2, 4, 6]\n",
    "alpha_arr = np.linspace(0.0, 10.0, 100)\n",
    "\n",
    "for n in n_arr:\n",
    "    tau_arr = []\n",
    "    for alpha in alpha_arr:\n",
    "        regressor = AutoRegressor(alpha, n)\n",
    "        x, _ = newton(regressor, alpha)\n",
    "        tau = get_tau(alpha, n, x)\n",
    "        tau_arr.append(tau)\n",
    "         \n",
    "    ax.set_title(r'Зависимость задержки $\\tau$ от $\\alpha$')\n",
    "    ax.plot(alpha_arr, tau_arr, label='n = {}'.format(n))\n",
    "    ax.legend()\n",
    "    ax.grid(True)\n",
    "    ax.set_xlabel(r'$\\alpha$')\n",
    "    ax.set_ylabel(r'$\\tau$')"
   ]
  },
  {
   "cell_type": "markdown",
   "metadata": {},
   "source": [
    "Область устойчивости расположена ниже кривых, изображенных на рисунке выше. Оболасть неустойчивости - выше. Система при отстутсвии задержек была устойчивой."
   ]
  }
 ],
 "metadata": {
  "kernelspec": {
   "display_name": "Python 3",
   "language": "python",
   "name": "python3"
  },
  "language_info": {
   "codemirror_mode": {
    "name": "ipython",
    "version": 3
   },
   "file_extension": ".py",
   "mimetype": "text/x-python",
   "name": "python",
   "nbconvert_exporter": "python",
   "pygments_lexer": "ipython3",
   "version": "3.6.8"
  }
 },
 "nbformat": 4,
 "nbformat_minor": 2
}
