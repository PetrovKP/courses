{
 "cells": [
  {
   "cell_type": "markdown",
   "metadata": {
    "nbgrader": {
     "grade": false,
     "grade_id": "cell-a2925371e063b483",
     "locked": true,
     "schema_version": 2,
     "solution": false
    }
   },
   "source": [
    "# Лабораторная работа 1"
   ]
  },
  {
   "cell_type": "markdown",
   "metadata": {
    "nbgrader": {
     "grade": false,
     "grade_id": "cell-8c1f707ec75db50b",
     "locked": true,
     "schema_version": 2,
     "solution": false
    }
   },
   "source": [
    "Не забываем загрузить библиотеки:"
   ]
  },
  {
   "cell_type": "code",
   "execution_count": 1,
   "metadata": {
    "nbgrader": {
     "grade": false,
     "grade_id": "cell-853b1d54d0588609",
     "locked": true,
     "schema_version": 2,
     "solution": false
    }
   },
   "outputs": [],
   "source": [
    "import warnings\n",
    "warnings.filterwarnings('ignore')\n",
    "\n",
    "# Библиотека для работы с матрицами\n",
    "import numpy as np \n",
    "\n",
    "# Алгоритмы линейной алгебры\n",
    "import scipy.linalg as sla\n",
    "\n",
    "# Библиотека для работы с разреженными матрицами\n",
    "import scipy.sparse as sps\n",
    "\n",
    "# Алгоритмы линейной алгебры для разреженных матриц\n",
    "import scipy.sparse.linalg as spla\n",
    "\n",
    "# Графическая библиотека\n",
    "import matplotlib.pyplot as plt\n",
    "\n",
    "# Позволяет отрисовывать графики и изображения прямо в ноутбуке, а не в отдельном окне. Жизненно важная вещь!\n",
    "%matplotlib inline"
   ]
  },
  {
   "cell_type": "markdown",
   "metadata": {
    "nbgrader": {
     "grade": false,
     "grade_id": "cell-e609ec7491bb3cb0",
     "locked": true,
     "schema_version": 2,
     "solution": false
    }
   },
   "source": [
    "## Часть 1. Особенности LU-разложения\n",
    "\n",
    "С точки зрения математики матричные разложения являются точными: произведение сомножителей всегда равняется исходной матрицы $A$. К сожалению, на практике этом часто мешает вычислительная погрешность. \n",
    "\n",
    "Для $LU$ разложения l2-норма ошибки ошибки $||\\delta A|| = ||A - LU||$ удовлетворяет следующей оценке:\n",
    "\n",
    "$$||\\delta A|| \\leqslant ||L|| \\cdot ||U|| \\cdot O(\\varepsilon_{machine})$$\n",
    "\n",
    "А нормы $L$ и $U$ могут быть совсем нехорошими."
   ]
  },
  {
   "cell_type": "markdown",
   "metadata": {
    "nbgrader": {
     "grade": false,
     "grade_id": "cell-1fd63ca1f729d028",
     "locked": true,
     "schema_version": 2,
     "solution": false
    }
   },
   "source": [
    "**Задание 1.1 (1 балл)** Рассмотрим следующее LU-разложение:\n",
    "\n",
    "$$\\begin{pmatrix}\n",
    "10^{-20} & 1\\\\\n",
    "1 & 1\n",
    "\\end{pmatrix} = \\begin{pmatrix}\n",
    "1 & 0\\\\\n",
    "10^{20} & 1\n",
    "\\end{pmatrix}\\cdot\\begin{pmatrix}\n",
    "10^{-20} & 1\\\\\n",
    "0 & 1 - 10^{20}\n",
    "\\end{pmatrix}$$\n",
    "\n",
    "Перемножьте полученные матрицы $L$ и $U$. А теперь перемножьте такие же матрицы, только после всех единиц поставьте десятичные точки. Изменился ли ответ? Как вам кажется, почему?"
   ]
  },
  {
   "cell_type": "code",
   "execution_count": 5,
   "metadata": {
    "nbgrader": {
     "grade": true,
     "grade_id": "cell-0f110e302b60d2cb",
     "locked": false,
     "points": 1,
     "schema_version": 2,
     "solution": true
    }
   },
   "outputs": [
    {
     "name": "stdout",
     "output_type": "stream",
     "text": [
      "<class 'int'>\n",
      "L:\n",
      " [[1 0]\n",
      " [100000000000000000000 1]]\n",
      "U:\n",
      " [[1e-20 1]\n",
      " [0 -99999999999999999999]]\n",
      "L*U: \n",
      " [[1e-20 1]\n",
      " [1.0 1]]\n"
     ]
    }
   ],
   "source": [
    "L = np.array([[1, 0], [10**20, 1]])\n",
    "U = np.array([[10**-20, 1], [0, 1 - 10**20]])\n",
    "\n",
    "print(type(U[1][1]))\n",
    "\n",
    "print(\"L:\\n\", L)\n",
    "print(\"U:\\n\", U)\n",
    "LU = np.dot(L, U)\n",
    "print(\"L*U: \\n\", LU)"
   ]
  },
  {
   "cell_type": "code",
   "execution_count": 6,
   "metadata": {},
   "outputs": [
    {
     "name": "stdout",
     "output_type": "stream",
     "text": [
      "<class 'numpy.float64'>\n",
      "L:\n",
      " [[1.0 0.0]\n",
      " [100000000000000000000 1.0]]\n",
      "U:\n",
      " [[ 1.e-20  1.e+00]\n",
      " [ 0.e+00 -1.e+20]]\n",
      "L*U: \n",
      " [[1e-20 1.0]\n",
      " [1.0 0.0]]\n"
     ]
    }
   ],
   "source": [
    "L = np.array([[1.00, 0.0], [10**20, 1.0]])\n",
    "U = np.array([[10**-20, 1], [0, 1.0 - 10**20]])\n",
    "\n",
    "print(type(U[1][1]))\n",
    "\n",
    "print(\"L:\\n\", L)\n",
    "print(\"U:\\n\", U)\n",
    "LU = np.dot(L, U)\n",
    "print(\"L*U: \\n\", LU)"
   ]
  },
  {
   "cell_type": "markdown",
   "metadata": {},
   "source": [
    "**Ответ изменился. В первом случае элемент в матрице U (1,1) равен действительно 1 - $10^{20}$, а во втором случае единица поглотилась числом $10^{20}$. Причина в том, что в первом случае элемент U(1,1) имеет тип int, а int точно может представляться в компьютерной арифметике. А во втором случае, элемент U(1,1) имеет вещественный тип, который не всюду представим, чем больше значение, тем меньше он представляет чисел.**"
   ]
  },
  {
   "cell_type": "markdown",
   "metadata": {
    "nbgrader": {
     "grade": false,
     "grade_id": "cell-807ed398d5bc3341",
     "locked": true,
     "schema_version": 2,
     "solution": false
    }
   },
   "source": [
    "Отметим, что в реальных вычислениях матричные элементы почти наверняка с самого начала будут числами с плавающей точкой (а не целыми).\n",
    "\n",
    "Теперь проверьте, что будет, если вычислить QR-разложение исходной матрицы и перемножить матрицы $Q$ и $R$."
   ]
  },
  {
   "cell_type": "code",
   "execution_count": 7,
   "metadata": {},
   "outputs": [
    {
     "name": "stdout",
     "output_type": "stream",
     "text": [
      "Q:\n",
      " [[ 0. -1.]\n",
      " [-1.  0.]]\n",
      "R:\n",
      " [[-1. -1.]\n",
      " [ 0. -1.]]\n",
      "Q*R:\n",
      " [[0. 1.]\n",
      " [1. 1.]]\n"
     ]
    }
   ],
   "source": [
    "A = np.array([[1e-20, 1], [1, 1]], dtype=np.float64)\n",
    "\n",
    "Q,R = sla.qr(A)\n",
    "print(\"Q:\\n\", Q)\n",
    "print(\"R:\\n\", R)\n",
    "QR = np.matmul(Q, R)\n",
    "print(\"Q*R:\\n\", QR)"
   ]
  },
  {
   "cell_type": "markdown",
   "metadata": {},
   "source": [
    "**Тут снова ошибка, но в этот раз в элементе Q(0,0). Логично предположить что при разложении элемент $10^{-20}$ вышел из представления и превартился в нуль.**"
   ]
  },
  {
   "cell_type": "markdown",
   "metadata": {
    "nbgrader": {
     "grade": false,
     "grade_id": "cell-8f160da0693e7b65",
     "locked": true,
     "schema_version": 2,
     "solution": false
    }
   },
   "source": [
    "**Выход: LU-разложение с выбором главного элемента (по столбцу)**\n",
    "\n",
    "Каждый раз ищем максимум в столбце и переставляем соответствующую строку наверх.\n",
    "\n",
    "$$\\begin{pmatrix}\n",
    "b_{11} & \\dots & b_{1i} & b_{1,i+1} & \\dots & b_{1n}\\\\\n",
    " & \\ddots & \\vdots & \\vdots & & \\vdots\\\\\n",
    " & & \\color{blue}{b_{ii}} & \\color{blue}{b_{i,i+1}} & \\dots & \\color{blue}{b_{in}} \\\\\n",
    " & & b_{i+1,i} & b_{i+1,i+1} & \\dots & b_{i+1,n}\\\\\n",
    " & & \\vdots & \\vdots &  & \\vdots \\\\\n",
    " & & \\color{green}{b_{ji}} & \\color{green}{b_{j,i+1}} & \\dots & \\color{green}{b_{jn}} \\\\\n",
    " & & \\vdots & \\vdots & & \\vdots\\\\\n",
    "\\end{pmatrix}\\longrightarrow\n",
    "\\begin{pmatrix}\n",
    "b_{11} & \\dots & b_{1i} & b_{1,i+1} & \\dots & b_{1n}\\\\\n",
    " & \\ddots & \\vdots & \\vdots & & \\vdots\\\\\n",
    " & & \\color{green}{b_{ji}} & \\color{green}{b_{j,i+1}} & \\dots & \\color{green}{b_{jn}} \\\\\n",
    " & & b_{i+1,i} & b_{i+1,i+1} & \\dots & b_{i+1,n}\\\\\n",
    " & & \\vdots & \\vdots &  & \\vdots \\\\\n",
    " & & \\color{blue}{b_{ii}} & \\color{blue}{b_{i,i+1}} & \\dots & \\color{blue}{b_{in}} \\\\\n",
    " & & \\vdots & \\vdots & & \\vdots\\\\\n",
    "\\end{pmatrix}\\longrightarrow$$\n",
    "$$\\longrightarrow\\begin{pmatrix}\n",
    "b_{11} & \\dots & b_{1i} & b_{1,i+1} & \\dots & b_{1n}\\\\\n",
    " & \\ddots & \\vdots & \\vdots & & \\vdots\\\\\n",
    " & & \\color{green}{b_{ji}} & \\color{green}{b_{j,i+1}} & \\dots & \\color{green}{b_{jn}} \\\\\n",
    " & & 0 & b'_{i+1,i+1} & \\dots & b'_{i+1,n}\\\\\n",
    " & & \\vdots & \\vdots &  & \\vdots \\\\\n",
    " & & 0 & b'_{i,i+1} & \\dots & b'_{in} \\\\\n",
    " & & \\vdots & \\vdots & & \\vdots\n",
    "\\end{pmatrix}$$\n",
    "\n",
    "Надо сказать, что примерно так вы все и решали системы на первом курсе университета! Именно наибольший, а не первый ненулевой элемент столбца берётся потому, что чем больше число - тем меньшие погрешности потенциально вносит деление на него."
   ]
  },
  {
   "cell_type": "markdown",
   "metadata": {
    "nbgrader": {
     "grade": false,
     "grade_id": "cell-b221c95bc45a770f",
     "locked": true,
     "schema_version": 2,
     "solution": false
    }
   },
   "source": [
    "Что при этом происходит? Перестановка строк матрицы равносильна умножению её слева на матрицу соответствующей перестановки. Таким образом, мы получаем равенство\n",
    "\n",
    "$$L_nP_nL_{n-1}P_{n-1}\\ldots L_2P_2L_1P_1 A = U\\qquad\\qquad(1)$$\n",
    "\n",
    "где $L_1,\\ldots,L_n$ - некоторые нижнетреугольные матрицы.\n",
    "\n",
    "**Вопрос:** Ну, и где здесь матрица $L$?!\n",
    "\n",
    "**Ответ:** Введём новые матрицы\n",
    "\n",
    "\\begin{align*}\n",
    "L'_n &= L_n\\\\\n",
    "L'_{n-1} &= P_nL_nP_{n-1}\\\\\n",
    "L'_{n-2} &= P_nP_{n-1}L_{n-1}P_n^{-1}P_{n-1}^{-1}\\\\\n",
    "&\\ldots\\\\\n",
    "L'_1 &= P_nP_{n-1}\\ldots P_2L_1P_2^{-1}\\ldots P_{n-1}^{-1}P_n^{-1}\n",
    "\\end{align*}\n",
    "\n",
    "**Упражнение.** Матрицы $L'_i$ тоже нижнетреугольные!\n",
    "\n",
    "Тогда левая часть (1) перепишется в виде\n",
    "\n",
    "$$\\underbrace{L'_nL'_{n-1}\\ldots L'_1}_{:=L^{-1}}\\underbrace{P_nP_{n-1}\\ldots P_1}_{:=P^{-1}}\\cdot A$$"
   ]
  },
  {
   "cell_type": "markdown",
   "metadata": {
    "nbgrader": {
     "grade": false,
     "grade_id": "cell-a234642d4586c306",
     "locked": true,
     "schema_version": 2,
     "solution": false
    }
   },
   "source": [
    "**Итог:** разложение вида\n",
    "$$A = PLU$$\n",
    "где $P$ - матрица перестановки.\n",
    "\n",
    "Функция `scipy.linalg.lu` в Питоне находит именно такое разложение!\n",
    "\n",
    "Все элементы $L$ не превосходят $1$, так что $||L||]\\leqslant 1$. При этом\n",
    "$$||\\Delta A|| \\leqslant ||A||\\cdot O(\\rho \\varepsilon_{machine}),$$\n",
    "где\n",
    "$$\\rho = \\frac{\\max_{i,j}|u_{ij}|}{\\max_{i,j}|a_{ij}|}$$\n",
    "Это число называется *фактором роста матрицы*.\n",
    "\n",
    "Но что, если это отношение велико?"
   ]
  },
  {
   "cell_type": "markdown",
   "metadata": {
    "nbgrader": {
     "grade": false,
     "grade_id": "cell-03ca09cdd63fe083",
     "locked": true,
     "schema_version": 2,
     "solution": false
    }
   },
   "source": [
    "**Задание 1.2 (1 балл)** Сгенерируйте матрицу $500\\times500$, имеющую вид\n",
    "\n",
    "$$\\begin{pmatrix}\n",
    "1 & 0 & 0 & \\cdots & 0 & 0 & 1\\\\\n",
    "-1 & 1 & 0 &  &  & 0 & 1\\\\\n",
    "-1 & -1 & 1 & 0  &  & 0 & 1\\\\\n",
    "\\vdots & & \\ddots & \\ddots  & \\ddots & \\vdots & \\vdots \\\\\n",
    "-1 & -1 & -1 & \\ddots & 1 & 0 & 1\\\\\n",
    "-1 & -1 & -1 &  & -1 & 1 & 1\\\\\n",
    "-1 & -1 & -1 & \\cdots & -1 & -1 & 1\n",
    "\\end{pmatrix}$$\n",
    "\n",
    "Например, сгенерировать сначала нулевую матрицу нужного размера, а потом заполнить её клетки правильными числами.\n",
    "\n",
    "Найдите её PLU-разложение и QR-разложение. Убедитесь, что $P = E$. Вычислите $||A - LU||_2$ и $||A - QR||_2$. Чему равен фактор роста матрицы $A$? Сделайте вывод об устойчивости (или не устойчивости) нахождения PLU-разложения."
   ]
  },
  {
   "cell_type": "code",
   "execution_count": 8,
   "metadata": {
    "nbgrader": {
     "grade": true,
     "grade_id": "cell-71de5e58b22a5fe9",
     "locked": false,
     "points": 1,
     "schema_version": 2,
     "solution": true
    }
   },
   "outputs": [
    {
     "name": "stdout",
     "output_type": "stream",
     "text": [
      "[[ 1  0  0 ...  0  0  1]\n",
      " [-1  1  0 ...  0  0  1]\n",
      " [-1 -1  1 ...  0  0  1]\n",
      " ...\n",
      " [-1 -1 -1 ...  1  0  1]\n",
      " [-1 -1 -1 ... -1  1  1]\n",
      " [-1 -1 -1 ... -1 -1  1]]\n"
     ]
    }
   ],
   "source": [
    "def sign(i, j):\n",
    "    if (j < i):\n",
    "        return -1\n",
    "    elif i == j or j == 499:\n",
    "        return 1\n",
    "    return 0\n",
    "\n",
    "A = np.array([[sign(i,j) for j in range(500)] for i in range(500)])\n",
    "print(A)"
   ]
  },
  {
   "cell_type": "code",
   "execution_count": 9,
   "metadata": {},
   "outputs": [
    {
     "name": "stdout",
     "output_type": "stream",
     "text": [
      "1.0\n"
     ]
    }
   ],
   "source": [
    "E = np.identity(500)\n",
    "P,L,U = sla.lu(A)\n",
    "print(np.mean(P == E))"
   ]
  },
  {
   "cell_type": "code",
   "execution_count": 10,
   "metadata": {},
   "outputs": [],
   "source": [
    "Q,R = sla.qr(A)"
   ]
  },
  {
   "cell_type": "code",
   "execution_count": 11,
   "metadata": {},
   "outputs": [
    {
     "name": "stdout",
     "output_type": "stream",
     "text": [
      "LUP norm  5.0768322940305e+114\n",
      "QR norm  8.799770347058781e-13\n"
     ]
    }
   ],
   "source": [
    "norm_lu = sla.norm(A - np.matmul(L, U))\n",
    "print('LUP norm ', norm_lu)\n",
    "\n",
    "norm_qr = sla.norm(A - np.matmul(Q, R))\n",
    "print('QR norm ',norm_qr)"
   ]
  },
  {
   "cell_type": "code",
   "execution_count": 12,
   "metadata": {},
   "outputs": [
    {
     "name": "stdout",
     "output_type": "stream",
     "text": [
      "factor p  3.273390607896142e+147\n"
     ]
    }
   ],
   "source": [
    "p = sla.norm(U, ord=np.inf)/sla.norm(A, ord=np.inf)\n",
    "print('factor p ', p)"
   ]
  },
  {
   "cell_type": "markdown",
   "metadata": {},
   "source": [
    "**Так как $\\| A - L U \\| _ { 2 }$ очень большое число, значит PLU разложение не устойчивое. Это подтверждается значением фактора роста.**"
   ]
  },
  {
   "cell_type": "markdown",
   "metadata": {
    "nbgrader": {
     "grade": false,
     "grade_id": "cell-15de45063c3828be",
     "locked": true,
     "schema_version": 2,
     "solution": false
    }
   },
   "source": [
    "К счастью, на практике так редко бывает (чёрт его знает почему). Тем не менее, QR-разложение всё-таки лучше. Теоретическая оценка для ошибки QR-разложения имеет вид\n",
    "\n",
    "$$||A - QR||_2 \\leqslant ||A||_2\\cdot O(\\varepsilon_{machine})$$"
   ]
  },
  {
   "cell_type": "markdown",
   "metadata": {
    "nbgrader": {
     "grade": false,
     "grade_id": "cell-99d91b250c3029a1",
     "locked": true,
     "schema_version": 2,
     "solution": false
    }
   },
   "source": [
    "**Задание 1.3 (1 балл)** Рассмотрим *матрицу Паскаля* $S_n = \\left(C_{i + j}^i\\right)$ ($i,j = 0,\\ldots,n-1$).\n",
    "\n",
    "Каково её LU-разложение? Выведите формулы для матриц L и U и приведите краткое обоснование прямо в ноутбуке. Не пользуйтесь функцией `scipy.linalg.lu`, чтобы его \"угадать\": матрица P будет отлична от единичной, и вы получите не то, что хотели.\n",
    "\n",
    "Каков её определитель? Обязательно обоснуйте ответ."
   ]
  },
  {
   "cell_type": "markdown",
   "metadata": {
    "nbgrader": {
     "grade": true,
     "grade_id": "cell-0a5df365613bf4d8",
     "locked": false,
     "points": 1,
     "schema_version": 2,
     "solution": true
    }
   },
   "source": [
    "**Если воспользоваться методом гаусса, то можно легко увидеть, что нижнетреуголльная матрица $L = \\left(C_{i}^j\\right)$, а верхнетреугольная матрица $U = \\left(C_{j}^i\\right)$.**\n",
    "\n",
    "\n",
    "**Определитель матриц L,U, A равен единице так как, на диагонали матриц L,U стоят всегда 1 <= $\\left(C_{i}^i\\right)=1$, ну а поскольку в треугольной матрице определитель равен произведению диагонали, тогда и сам определитель равен 1. Ну и следовательно $det(A)=det(L)\\cdot  det(U) => det(A) = 1$**\n"
   ]
  },
  {
   "cell_type": "markdown",
   "metadata": {
    "nbgrader": {
     "grade": false,
     "grade_id": "cell-3a0e90616c199cdd",
     "locked": true,
     "schema_version": 2,
     "solution": false
    }
   },
   "source": [
    "Напишите функцию `my_pascal(n)`, генерирующую матрицу Паскаля размера $n\\times n$."
   ]
  },
  {
   "cell_type": "code",
   "execution_count": 13,
   "metadata": {},
   "outputs": [
    {
     "name": "stdout",
     "output_type": "stream",
     "text": [
      "Pascal Matrix\n",
      " [[1. 1. 1.]\n",
      " [1. 2. 3.]\n",
      " [1. 3. 6.]]\n",
      "L\n",
      " [[1. 0. 0.]\n",
      " [1. 1. 0.]\n",
      " [1. 2. 1.]]\n",
      "U\n",
      " [[1. 1. 1.]\n",
      " [0. 1. 2.]\n",
      " [0. 0. 1.]]\n",
      "LU\n",
      " [[1. 1. 1.]\n",
      " [1. 2. 3.]\n",
      " [1. 3. 6.]]\n",
      "[[ True  True  True]\n",
      " [ True  True  True]\n",
      " [ True  True  True]]\n"
     ]
    }
   ],
   "source": [
    "import scipy.special as scs\n",
    "def my_pascal(n):\n",
    "    return np.array([[scs.comb(i + j, i) for j in range(n)] for i in range(n)])\n",
    "\n",
    "\n",
    "def l_pascal(n):\n",
    "    return np.array([[scs.comb(i, j) if j <= i else 0 for j in range(n)] for i in range(n)])\n",
    "\n",
    "def u_pascal(n):\n",
    "    return np.array([[scs.comb(j, i) if j >= i else 0 for j in range(n)] for i in range(n)])\n",
    "\n",
    "A = my_pascal(3)\n",
    "L = l_pascal(3)\n",
    "U = u_pascal(3)\n",
    "LU = np.matmul(L, U)\n",
    "print(\"Pascal Matrix\\n\", A)\n",
    "print(\"L\\n\", L)\n",
    "print(\"U\\n\", U)\n",
    "print(\"LU\\n\", LU)\n",
    "print(A==LU)"
   ]
  },
  {
   "cell_type": "code",
   "execution_count": 14,
   "metadata": {},
   "outputs": [
    {
     "name": "stdout",
     "output_type": "stream",
     "text": [
      "1.0\n",
      "1.0\n",
      "1.0\n"
     ]
    }
   ],
   "source": [
    "print(sla.det(A))\n",
    "print(sla.det(L))\n",
    "print(sla.det(U))"
   ]
  },
  {
   "cell_type": "markdown",
   "metadata": {},
   "source": [
    "**Что и следовало ожидать**"
   ]
  },
  {
   "cell_type": "markdown",
   "metadata": {
    "nbgrader": {
     "grade": false,
     "grade_id": "cell-56cd8e8126f36e08",
     "locked": true,
     "schema_version": 2,
     "solution": false
    }
   },
   "source": [
    "Найдите норму разности $||A - PLU||_2$. Не такая уж и большая, правда?"
   ]
  },
  {
   "cell_type": "code",
   "execution_count": 15,
   "metadata": {},
   "outputs": [
    {
     "name": "stdout",
     "output_type": "stream",
     "text": [
      "16.863232991023153\n"
     ]
    }
   ],
   "source": [
    "A = my_pascal(30)\n",
    "L = l_pascal(30)\n",
    "U = u_pascal(30)\n",
    "\n",
    "norm = sla.norm(A - np.matmul(L, U))\n",
    "print(norm)"
   ]
  },
  {
   "cell_type": "markdown",
   "metadata": {
    "nbgrader": {
     "grade": false,
     "grade_id": "cell-0aeaf68589e4e93e",
     "locked": true,
     "schema_version": 2,
     "solution": false
    }
   },
   "source": [
    "Теперь попросим компьютер вычислить определитель матрицы Паскаля $30\\times30$ и решить простенькую систему уравнений:"
   ]
  },
  {
   "cell_type": "code",
   "execution_count": 16,
   "metadata": {},
   "outputs": [
    {
     "name": "stdout",
     "output_type": "stream",
     "text": [
      "1.178037022515363e+49\n",
      "24552891.1281253\n"
     ]
    }
   ],
   "source": [
    "print(sla.det(A))\n",
    "\n",
    "# Try to solve a linear system\n",
    "x = np.ones(30)\n",
    "b = A.dot(x)\n",
    "x1 = sla.solve(A, b)\n",
    "print(sla.norm(x1 - x))"
   ]
  },
  {
   "cell_type": "markdown",
   "metadata": {
    "nbgrader": {
     "grade": false,
     "grade_id": "cell-fb043ec5385756a6",
     "locked": true,
     "schema_version": 2,
     "solution": false
    }
   },
   "source": [
    "Так себе ошибка. Теперь попробуем сделать это с помощью QR-разложения. Станет ли лучше?"
   ]
  },
  {
   "cell_type": "code",
   "execution_count": 17,
   "metadata": {},
   "outputs": [
    {
     "name": "stdout",
     "output_type": "stream",
     "text": [
      "644500689.5667214\n"
     ]
    }
   ],
   "source": [
    "Q, R = sla.qr(A)\n",
    "x2 = sla.solve_triangular(R, Q.T.dot(b))\n",
    "print(sla.norm(x2 - x))"
   ]
  },
  {
   "cell_type": "markdown",
   "metadata": {
    "nbgrader": {
     "grade": false,
     "grade_id": "cell-b6bc307685f8bfc1",
     "locked": true,
     "schema_version": 2,
     "solution": false
    }
   },
   "source": [
    "Объясните полученные неприятные результаты."
   ]
  },
  {
   "cell_type": "markdown",
   "metadata": {
    "nbgrader": {
     "grade": true,
     "grade_id": "cell-d92383a537ebe872",
     "locked": false,
     "points": 0,
     "schema_version": 2,
     "solution": true
    }
   },
   "source": [
    "**При решении системы, используется метод Гаусса. На каждой итерации необходимо вычитать одну строку из других строк. Учитывая что проводятся операции с очень большими числами, например: **"
   ]
  },
  {
   "cell_type": "code",
   "execution_count": 18,
   "metadata": {},
   "outputs": [
    {
     "data": {
      "text/plain": [
       "3.0067266499541044e+16"
      ]
     },
     "execution_count": 18,
     "metadata": {},
     "output_type": "execute_result"
    }
   ],
   "source": [
    "scs.comb(29+29, 29)"
   ]
  },
  {
   "cell_type": "markdown",
   "metadata": {},
   "source": [
    "**То будут появляться ошибки округления, которые в итоге накапливаются и приводят к серьезныи ошибкам при решении.**"
   ]
  },
  {
   "cell_type": "markdown",
   "metadata": {
    "nbgrader": {
     "grade": false,
     "grade_id": "cell-d92a92869684cd31",
     "locked": true,
     "schema_version": 2,
     "solution": false
    }
   },
   "source": [
    "## Часть 2. Решение СЛАУ с положительно определённой матрицей"
   ]
  },
  {
   "cell_type": "markdown",
   "metadata": {
    "nbgrader": {
     "grade": false,
     "grade_id": "cell-e690cde0c782ee94",
     "locked": true,
     "schema_version": 2,
     "solution": false
    }
   },
   "source": [
    "**Задание 2.1. Какие же методы использовать? (3 балла)**"
   ]
  },
  {
   "cell_type": "markdown",
   "metadata": {
    "nbgrader": {
     "grade": false,
     "grade_id": "cell-022586cb8c849e98",
     "locked": true,
     "schema_version": 2,
     "solution": false
    }
   },
   "source": [
    "Реализуйте несколько алгоритмов решения СЛАУ $Ax = B$, где $A = A^T$, $A \\geqslant 0$ с матричной правой частью $B$.\n",
    "\n",
    "1. **Наивный способ**: $x = A^{-1}B$;\n",
    "\n",
    "2. **Стандартный способ**: с помощью процедуры `solve` модуля `scipy.linalg`;\n",
    "\n",
    "3. **Разложение Холецкого**: с помощью разложения Холецкого для матрицы $A$ и последующего решения двух СЛАУ с треугольными матрицами;\n",
    "\n",
    "4. **Разложение Холецкого с процедурами scipy**: с помощью разложения Холецкого для матрицы $A$ и специальных процедур из пакета `scipy.linalg` (`cho_factor`, `cho_solve`).\n",
    "\n",
    "Для решения СЛАУ с треугольной матрицей можно воспользоваться функцией `solve_triangular` из пакета `scipy.linalg`."
   ]
  },
  {
   "cell_type": "code",
   "execution_count": 19,
   "metadata": {},
   "outputs": [],
   "source": [
    "def naive_solve(A, B):\n",
    "    return np.matmul(sla.inv(A), B)\n",
    "    \n",
    "def standard_solve(A, B):\n",
    "    return sla.solve(A,B)\n",
    "    \n",
    "def cho_solve(A, B):\n",
    "    L = sla.cholesky(A, lower=True)\n",
    "    Y = sla.solve_triangular(L, B, lower=True)\n",
    "    return sla.solve_triangular(L.T, Y, lower=False)\n",
    "    \n",
    "def scipy_cho_solve(A, B):\n",
    "    c, low = sla.cho_factor(A)\n",
    "    return sla.cho_solve((c, low), B)"
   ]
  },
  {
   "cell_type": "markdown",
   "metadata": {
    "nbgrader": {
     "grade": false,
     "grade_id": "cell-8e4709550a4a3cfd",
     "locked": true,
     "schema_version": 2,
     "solution": false
    }
   },
   "source": [
    "Проведите тестирование реализованных алгоритмов на небольшой СЛАУ на предмет совпадения ответов"
   ]
  },
  {
   "cell_type": "code",
   "execution_count": 20,
   "metadata": {},
   "outputs": [
    {
     "name": "stdout",
     "output_type": "stream",
     "text": [
      "A\n",
      " [[1.52727065 1.44330951 0.27304578 0.75168321]\n",
      " [1.44330951 1.72301917 0.68582047 0.97323353]\n",
      " [0.27304578 0.68582047 0.93985054 0.59952377]\n",
      " [0.75168321 0.97323353 0.59952377 0.73101317]]\n",
      "X true\n",
      " [[-1.04108949  1.41795164  0.11477706 -2.9988732 ]\n",
      " [ 4.1843864  -1.22224125  1.90850172  4.7860406 ]\n",
      " [ 1.32183461 -1.75677206 -2.87078704  0.88251587]\n",
      " [ 3.45591466  4.99388857  3.53721006 -3.8611488 ]]\n",
      "B\n",
      " [[ 7.40801367  3.6756665   4.80485946 -0.33374659]\n",
      " [ 9.97711684  3.59598752  4.92773077  0.76558544]\n",
      " [ 5.89970271  0.89177938  0.7627597   0.97811746]\n",
      " [ 6.60860604  2.47369598  2.80833592  0.11027114]]\n",
      "\n",
      "naive_solve\n",
      " 1.915099017039328e-14\n",
      "standard_solve\n",
      " 1.7238698435667944e-14\n",
      "cho_solve\n",
      " 1.4371392410935052e-14\n",
      "scipy_cho_solve\n",
      " 1.4371392410935052e-14\n"
     ]
    }
   ],
   "source": [
    "n = 4\n",
    "tmp = np.random.rand(n, n)\n",
    "A = np.matmul(tmp, tmp.transpose())\n",
    "X_true = -5 + np.random.rand(n, n)*10\n",
    "\n",
    "B = np.matmul(A, X_true)\n",
    "print(\"A\\n\", A)\n",
    "print(\"X true\\n\", X_true)\n",
    "print(\"B\\n\",B)\n",
    "print()\n",
    "\n",
    "X = naive_solve(A, B)\n",
    "print(\"naive_solve\\n\", sla.norm(X - X_true))\n",
    "\n",
    "X = standard_solve(A, B)\n",
    "print(\"standard_solve\\n\", sla.norm(X - X_true))\n",
    "\n",
    "X = cho_solve(A, B)\n",
    "print(\"cho_solve\\n\", sla.norm(X - X_true))\n",
    "\n",
    "X = scipy_cho_solve(A, B)\n",
    "print(\"scipy_cho_solve\\n\", sla.norm(X - X_true))"
   ]
  },
  {
   "cell_type": "markdown",
   "metadata": {},
   "source": [
    "**Видно, ответы сходятся в рамках ошибки типа данных. Все отлично, идем дальше.**"
   ]
  },
  {
   "cell_type": "markdown",
   "metadata": {
    "nbgrader": {
     "grade": false,
     "grade_id": "cell-c1c2a15a925df258",
     "locked": true,
     "schema_version": 2,
     "solution": false
    }
   },
   "source": [
    "Проведите эксперименты и выясните, как меняется время работы этих методов\n",
    "\n",
    "- с ростом размера матрицы $A$ при фиксированном числе правых частей. Рассмотрите системы с 10, 100, 1000 правых частей;\n",
    "\n",
    "- с ростом числа правых частей при фиксированном размере матрицы $A$ (например, $100\\times100$).\n",
    "\n",
    "Обязательно нарисуйте графики (время работы от размера). Какой метод оказывается более быстрым?\n",
    "\n",
    "Для тестирования вам пригодятся случайные матрицы, сгенерированные с помощью функции `numpy.random.randn`. Но не забудьте, что в задаче речь идёт о *симметрических положительно определённых матрицах*. Так что подумайте, как из случайных матриц сделать симметрические положительно определённые.\n",
    "\n",
    "Матрицы левых частей должны быть не менее $100\\times100$: при меньших размерностях заметную роль могут играть факторы, не имеющие отношения к алгебре. Мы рекомендуем рассматривать системы с матрицами размера от 100 до 1000 и с числом правых частей от 10 до 10000. Приготовьтесь к тому, что эксперименты могут занять какое-то время."
   ]
  },
  {
   "cell_type": "code",
   "execution_count": 21,
   "metadata": {
    "nbgrader": {
     "grade": true,
     "grade_id": "cell-9b310df79b1310be",
     "locked": false,
     "points": 3,
     "schema_version": 2,
     "solution": true
    }
   },
   "outputs": [],
   "source": [
    "N = np.linspace(100, 1000, 100, dtype=int)\n",
    "\n",
    "def expirement_one(m):\n",
    "    import timeit\n",
    "    times_naive_solve = []\n",
    "    times_standard_solve = []\n",
    "    times_cho_solve = []\n",
    "    times_scipy_cho_solve = []\n",
    "    for n in N:\n",
    "        tmp = np.random.rand(n, n)\n",
    "        A = np.matmul(tmp, tmp.transpose())\n",
    "        X_true = -5 + np.random.rand(n, m)*10\n",
    "        B = np.matmul(A, X_true)\n",
    "\n",
    "        st = timeit.default_timer()\n",
    "        X = naive_solve(A,B)\n",
    "        ft = timeit.default_timer()\n",
    "        times_naive_solve.append(ft - st)\n",
    "\n",
    "        st = timeit.default_timer()\n",
    "        X = standard_solve(A,B)\n",
    "        ft = timeit.default_timer()\n",
    "        times_standard_solve.append(ft - st)\n",
    "\n",
    "        st = timeit.default_timer()\n",
    "        X = cho_solve(A,B)\n",
    "        ft = timeit.default_timer()\n",
    "        times_cho_solve.append(ft - st)\n",
    "\n",
    "        st = timeit.default_timer()\n",
    "        X = scipy_cho_solve(A,B)\n",
    "        ft = timeit.default_timer()\n",
    "        times_scipy_cho_solve.append(ft - st)\n",
    "    return times_naive_solve,times_standard_solve,times_cho_solve,times_scipy_cho_solve"
   ]
  },
  {
   "cell_type": "code",
   "execution_count": 22,
   "metadata": {},
   "outputs": [
    {
     "data": {
      "image/png": "[encoded data removed]",
      "text/plain": [
       "<Figure size 1440x360 with 3 Axes>"
      ]
     },
     "metadata": {},
     "output_type": "display_data"
    }
   ],
   "source": [
    "fig, axes = plt.subplots(ncols=3, figsize=(20, 5))\n",
    "\n",
    "M = [10, 100, 1000]\n",
    "\n",
    "for i, m in enumerate(M):\n",
    "    times_naive_solve,times_standard_solve,times_cho_solve,times_scipy_cho_solve = expirement_one(m)\n",
    "    axes[i].plot(N, times_naive_solve, label = 'naive_solve')\n",
    "    axes[i].plot(N, times_standard_solve, label = 'standard_solve')\n",
    "    axes[i].plot(N, times_cho_solve, label = 'cho_solve')\n",
    "    axes[i].plot(N, times_scipy_cho_solve, label = 'scipy_cho_solve')\n",
    "\n",
    "    axes[i].set_xlabel(\"Размер матриц в левой части\")\n",
    "    axes[i].set_ylabel(\"Время, сек\")\n",
    "    axes[i].set_title(\"При фиксированном размере справа M = \" + str(m))\n",
    "    axes[i].legend()\n",
    "plt.show()"
   ]
  },
  {
   "cell_type": "code",
   "execution_count": 23,
   "metadata": {},
   "outputs": [],
   "source": [
    "M = np.linspace(10, 10000, 100, dtype=int)\n",
    "\n",
    "def expirement_two(n):\n",
    "    import timeit\n",
    "    times_naive_solve = []\n",
    "    times_standard_solve = []\n",
    "    times_cho_solve = []\n",
    "    times_scipy_cho_solve = []\n",
    "    for m in M:\n",
    "        tmp = np.random.rand(n, n)\n",
    "        A = np.matmul(tmp, tmp.transpose())\n",
    "        X_true = -5 + np.random.rand(n, m)*10\n",
    "        B = np.matmul(A, X_true)\n",
    "\n",
    "        st = timeit.default_timer()\n",
    "        X = naive_solve(A,B)\n",
    "        ft = timeit.default_timer()\n",
    "        times_naive_solve.append(ft - st)\n",
    "\n",
    "        st = timeit.default_timer()\n",
    "        X = standard_solve(A,B)\n",
    "        ft = timeit.default_timer()\n",
    "        times_standard_solve.append(ft - st)\n",
    "\n",
    "        st = timeit.default_timer()\n",
    "        X = cho_solve(A,B)\n",
    "        ft = timeit.default_timer()\n",
    "        times_cho_solve.append(ft - st)\n",
    "\n",
    "        st = timeit.default_timer()\n",
    "        X = scipy_cho_solve(A,B)\n",
    "        ft = timeit.default_timer()\n",
    "        times_scipy_cho_solve.append(ft - st)\n",
    "    return times_naive_solve,times_standard_solve,times_cho_solve,times_scipy_cho_solve"
   ]
  },
  {
   "cell_type": "code",
   "execution_count": 24,
   "metadata": {},
   "outputs": [],
   "source": [
    "times_naive_solve,times_standard_solve,times_cho_solve,times_scipy_cho_solve = expirement_two(600)"
   ]
  },
  {
   "cell_type": "code",
   "execution_count": 25,
   "metadata": {
    "scrolled": true
   },
   "outputs": [
    {
     "data": {
      "image/png": "[encoded data removed]",
      "text/plain": [
       "<Figure size 1080x360 with 1 Axes>"
      ]
     },
     "metadata": {},
     "output_type": "display_data"
    }
   ],
   "source": [
    "plt.figure(figsize=(15,5))\n",
    "plt.plot(M, times_naive_solve, label = 'naive_solve')\n",
    "plt.plot(M, times_standard_solve, label = 'standard_solve')\n",
    "plt.plot(M, times_cho_solve, label = 'cho_solve')\n",
    "plt.plot(M, times_scipy_cho_solve, label = 'scipy_cho_solve')\n",
    "\n",
    "plt.title(\"Время выполнения в зависимости от размера матриц\")\n",
    "plt.xlabel(\"Размер матриц в правых частях\")\n",
    "plt.ylabel(\"Время, сек\")\n",
    "plt.legend()\n",
    "plt.show()"
   ]
  },
  {
   "cell_type": "markdown",
   "metadata": {},
   "source": [
    "**Как с ростом размера матриц в левой части, так и с ростом матриц в правой части на графиках видно, что время работы всех алгоритмов растёт. Лучше всех показывает себя метод scipy_cho_solve и хуже всех при изменении матриц в левых частях показал себя naive_solve, в случае изменений в правой части он немного улучшает позиции**\n",
    "\n",
    "**В общем, можо сделать вывод, что если необходимо решить СЛАУ с положительно определенной матрицей, лучше использовать scipy_cho_solve.**\n"
   ]
  },
  {
   "cell_type": "markdown",
   "metadata": {
    "nbgrader": {
     "grade": false,
     "grade_id": "cell-5ea48fe41df5772f",
     "locked": true,
     "schema_version": 2,
     "solution": false
    }
   },
   "source": [
    "**Задание 2.2. Пример: вычисление логарифма плотности многомерного нормального распределения (3 балла)**"
   ]
  },
  {
   "cell_type": "markdown",
   "metadata": {},
   "source": [
    "Случайная величина $\\vec{x}\\in\\mathbb{R}^D$ имеет многомерное нормальное распределение, если её плотность может быть представлена как\n",
    "$$\n",
    "p(\\vec{x}) = \\mathcal{N}(\\vec{x}|\\vec{\\mu},\\Sigma) = \\frac{1}{\\sqrt{2\\pi}^D\\sqrt{\\det\\Sigma}}\\exp\\left(-\\frac{1}{2}(\\vec{x}-\\vec{\\mu})^T\\Sigma^{-1}(\\vec{x}-\\vec{\\mu})\\right)\n",
    "$$\n",
    "Здесь $\\vec{\\mu}\\in\\mathbb{R}^D -$ вектор мат. ожидания $\\vec{x}$, а $\\Sigma\\in\\mathbb{R}^{D{\\times}D} -$ матрица ковариации.\n",
    "\n",
    "С помощью матричных разложений реализуйте алгоритм вычисления логарифма нормальной плотности для набора векторов $X = \\{\\vec{x}_1,\\dots,\\vec{x}_N\\}$ для заданных $\\vec{\\mu}$ и $\\Sigma$.\n",
    "\n",
    "**Внимание**. Цель этого задания продемонстрировать вам возможности эффективного использования матричных вычислений, а не воспитать умение ускорять код на Питоне. Поэтому решения, в которых оптимизация достигнута с помощью Numba, Cython, С++-расширений или подобного им инструментария, будут оценены гораздо ниже, чем вы могли бы ожидать. Надеемся на понимание. "
   ]
  },
  {
   "cell_type": "markdown",
   "metadata": {},
   "source": [
    "**Так как матрица ковариации по определению положительно определенная, применим разложение Холецкого для матрицы $\\Sigma$. Тогда, $\\det\\Sigma=\\det L\\det L^T = 2diagonal(L)$**\n",
    "\n",
    "**И $(\\vec{x}-\\vec{\\mu})^T\\Sigma^{-1}(\\vec{x}-\\vec{\\mu}) = (\\vec{x}-\\vec{\\mu})^T\\cdot({LL^T})^{-1}\\cdot(\\vec{x}-\\vec{\\mu}) = (L^{-1}(\\vec{x}-\\vec{\\mu}))^T\\cdot(L^{-1}(\\vec{x}-\\vec{\\mu}))=Z^TZ$ **\n"
   ]
  },
  {
   "cell_type": "code",
   "execution_count": 23,
   "metadata": {},
   "outputs": [],
   "source": [
    "def my_multivariate_normal_logpdf(X, m, S):\n",
    "    '''\n",
    "    Ввод\n",
    "    -----\n",
    "    X: набор точек, numpy array размера N x D;\n",
    "    m: вектор средних значений, numpy array длины D;\n",
    "    S: ковариационная матрицы, numpy array размера D x D.\n",
    "    \n",
    "    Вывод\n",
    "    ------\n",
    "    res: результат вычислений, numpy array длины N.\n",
    "    '''\n",
    "    D = len(X)\n",
    "    L = sla.cholesky(S, lower=True)\n",
    "    T = -D*0.5 * np.log(2 * np.pi) - np.log(np.prod(np.diag(L)))\n",
    "    Z = np.matmul(sla.inv(L),(X - m))\n",
    "    return T - 0.5*np.matmul(Z.T,Z)"
   ]
  },
  {
   "cell_type": "markdown",
   "metadata": {
    "nbgrader": {
     "grade": false,
     "grade_id": "cell-819c16f46777c498",
     "locked": true,
     "schema_version": 2,
     "solution": false
    }
   },
   "source": [
    "Сгенерируйте выборку из нормального распределения со случайными параметрами для небольшого $D$ с помощью функции `scipy.stats.multivariate_normal.rvs` и сравните на этой выборке результат работы вашего алгоритма с результатом стандартной функции `scipy.stats.multivariate_normal.logpdf`"
   ]
  },
  {
   "cell_type": "code",
   "execution_count": 24,
   "metadata": {
    "nbgrader": {
     "grade": true,
     "grade_id": "cell-0b3b0501e9e2e05e",
     "locked": false,
     "points": 3,
     "schema_version": 2,
     "solution": true
    }
   },
   "outputs": [
    {
     "name": "stdout",
     "output_type": "stream",
     "text": [
      "-8.073719275698693\n",
      "-8.0737192756987\n"
     ]
    }
   ],
   "source": [
    "import scipy.stats as stat\n",
    "D = 4\n",
    "\n",
    "mean = -5 + np.random.rand(D)*10\n",
    "tmp = -5 + np.random.rand(D, D)*10\n",
    "cov = np.matmul(tmp, tmp.T)\n",
    "X = stat.multivariate_normal(mean=mean, cov=cov).rvs(size=1)\n",
    "\n",
    "y = stat.multivariate_normal.logpdf(X, mean=mean, cov=cov)\n",
    "print (y)\n",
    "y_my = my_multivariate_normal_logpdf(X, mean, cov)\n",
    "print(y_my)"
   ]
  },
  {
   "cell_type": "markdown",
   "metadata": {},
   "source": [
    "**Ура, мы сделали правильно! Сравнимся с scipy.stats.multivariate_normal.logpdf**"
   ]
  },
  {
   "cell_type": "markdown",
   "metadata": {
    "nbgrader": {
     "grade": false,
     "grade_id": "cell-71cb3969445b909a",
     "locked": true,
     "schema_version": 2,
     "solution": false
    }
   },
   "source": [
    "Замерьте время работы вашего алгоритма и функции `scipy.stats.multivariate_normal.logpdf` для различных значений $D$. Постарайтесь добиться, чтобы ваш алгоритм выигрывал по скорости у стандартной функции."
   ]
  },
  {
   "cell_type": "code",
   "execution_count": 25,
   "metadata": {},
   "outputs": [],
   "source": [
    "D = np.linspace(50, 200, 20, dtype=int)\n",
    "errors = []\n",
    "\n",
    "def expirement_time():\n",
    "    import timeit\n",
    "    times_multivariate_normal = []\n",
    "    times_my_multivariate_normal_logpdf = []\n",
    "    \n",
    "    for d in D:\n",
    "        mean = -5 + np.random.rand(d)*10\n",
    "        tmp = -5 + np.random.rand(d, d)*10\n",
    "        cov = np.matmul(tmp, tmp.T)\n",
    "        X = stat.multivariate_normal(mean=mean, cov=cov).rvs(size=1)\n",
    "\n",
    "        st = timeit.default_timer()\n",
    "        Y_true = stat.multivariate_normal.logpdf(X, mean=mean, cov=cov)\n",
    "        ft = timeit.default_timer()\n",
    "        times_multivariate_normal.append(ft - st)\n",
    "        \n",
    "        st = timeit.default_timer()\n",
    "        Y_my = my_multivariate_normal_logpdf(X, mean, cov)\n",
    "        ft = timeit.default_timer()\n",
    "        times_my_multivariate_normal_logpdf.append(ft - st)\n",
    "        \n",
    "        errors.append(abs(Y_true - Y_my)/abs(Y_true))\n",
    "\n",
    "    return times_multivariate_normal,times_my_multivariate_normal_logpdf"
   ]
  },
  {
   "cell_type": "code",
   "execution_count": 26,
   "metadata": {},
   "outputs": [
    {
     "name": "stdout",
     "output_type": "stream",
     "text": [
      "[2.9885350294096934e-15, 3.2917249020416364e-15, 0.0, 9.470127229926045e-15, 5.001441790946817e-16, 6.896416014132193e-15, 8.628801553110237e-15, 2.3770323567884706e-15, 7.331298680826221e-15, 6.4531229999768e-16, 2.229139257518092e-15, 1.1283427943312137e-14, 1.961171441802305e-15, 5.277310523816427e-15, 1.705955284685107e-15, 7.448563649714836e-16, 1.0540906884126627e-14, 9.368984110618018e-16, 5.153936450099347e-16, 3.683780419144589e-14]\n"
     ]
    },
    {
     "data": {
      "text/plain": [
       "<matplotlib.legend.Legend at 0x2053ccb1cc0>"
      ]
     },
     "execution_count": 26,
     "metadata": {},
     "output_type": "execute_result"
    },
    {
     "data": {
      "image/png": "[encoded data removed]",
      "text/plain": [
       "<Figure size 864x432 with 1 Axes>"
      ]
     },
     "metadata": {},
     "output_type": "display_data"
    }
   ],
   "source": [
    "times_multivariate_normal,times_my_multivariate_normal_logpd = expirement_time()\n",
    "\n",
    "print(errors)\n",
    "\n",
    "plt.figure(figsize=(12,6))\n",
    "plt.plot(D, times_multivariate_normal, label = 'multivariate_normal')\n",
    "plt.plot(D, times_my_multivariate_normal_logpd, label = 'my_multivariate_normal_logpd')\n",
    "\n",
    "plt.title(\"Время в зависимости от размерности D\")\n",
    "plt.xlabel(\"D\")\n",
    "plt.ylabel(\"Время, сек\")\n",
    "plt.legend()"
   ]
  },
  {
   "cell_type": "markdown",
   "metadata": {
    "nbgrader": {
     "grade": false,
     "grade_id": "cell-5620f9ce16f131b6",
     "locked": true,
     "schema_version": 2,
     "solution": false
    }
   },
   "source": [
    "В задаче будут оцениваться:\n",
    "- удалось ли вам обогнать библиотечную функцию;\n",
    "- использованы ли вы матричные разложения (или просто обратили матрицу:))\n",
    "- наличие дополнительных оптимизаций"
   ]
  },
  {
   "cell_type": "markdown",
   "metadata": {},
   "source": [
    "**Я вывел массив относительных ошибок, с каждым разлиным D. Видно, что результаты схожи в точности до знака вещественного представления. Так же видно, что моя реализация очень сильно превосходит по времени с ростом D.**"
   ]
  },
  {
   "cell_type": "markdown",
   "metadata": {
    "nbgrader": {
     "grade": false,
     "grade_id": "cell-1ed0fa328dc732f5",
     "locked": true,
     "schema_version": 2,
     "solution": false
    }
   },
   "source": [
    "## Часть 3. Разреженные матрицы"
   ]
  },
  {
   "cell_type": "markdown",
   "metadata": {
    "nbgrader": {
     "grade": false,
     "grade_id": "cell-a867b4021dd90b09",
     "locked": true,
     "schema_version": 2,
     "solution": false
    }
   },
   "source": [
    "Вот здесь http://docs.scipy.org/doc/scipy/reference/sparse.html можно посмотреть, как различные форматы разреженных матриц реализованы в библиотеке `scipy`.\n",
    "\n",
    "Вот здесь https://www.cise.ufl.edu/research/sparse/matrices/index.html выложено много разреженных матриц из разнообразных приложений. Что особенно приятно, сайт предоставляет удобный клиент для скачивания, в котором доступен предпросмотр и данные о том, являются ли матрицы симметричными или положительно определёнными.\n",
    "\n",
    "**Задание 3.1 (0,5 балла)** Когда мы анализировали время преобразований между различными форматами, вы могли заметить, что преобразование из формата `LIL` в формат `CSR` занимает гораздо больше времени, чем преобразования между форматами `COO`, `CSR` и `CSC`. Почему так происходит?"
   ]
  },
  {
   "cell_type": "markdown",
   "metadata": {
    "collapsed": true,
    "nbgrader": {
     "grade": true,
     "grade_id": "cell-d065b06a3bcc602d",
     "locked": false,
     "points": 0.5,
     "schema_version": 2,
     "solution": true
    }
   },
   "source": [
    "**В случае форматов COO, CSR и CSC массив значений не меняется, изменяются только два других (например, массив индексов столбцов и массив смещений индексов строк). А в случае LIL приходится обновлять матрицу с нуля.**"
   ]
  },
  {
   "cell_type": "markdown",
   "metadata": {
    "nbgrader": {
     "grade": false,
     "grade_id": "cell-e36868dda53cb4e2",
     "locked": true,
     "schema_version": 2,
     "solution": false
    }
   },
   "source": [
    "**Задание 3.2 (1 балл)** Торговая сеть предоставила вам данные о покупках своих клиентов, представляющие собою \n",
    "таблицу со столбцами \n",
    "* Номер записи\n",
    "* *InvoiceNo* - номер чека\n",
    "* *StockCode* - код товара\n",
    "* *Description* - название товара\n",
    "\n",
    "Чтобы понять, какие товары покупают вместе, вы решили построить (разреженную) матрицу, строки и столбцы которой соответствуют различным товарам, а в клетке с \"номером\" $(g_1, g_2)$ стоит число $c(g_1 \\& g_2)$ --- количество чеков, содержащих оба товара. \n",
    "\n",
    "Ниже приведён код, который вам нужно дополнить, дописав функцию ``CreateMatrix``, создающая из структуры pandas.DataFrame разреженную матрицу. Ваша реализация должна удовлетворять следующим свойствам:\n",
    "* матрица должна создаваться эффективно и по возможности с минимальным числом циклов;\n",
    "* итоговая матрица должна позволять быстро отвечать на следующие вопросы:\n",
    "  - сколько всего было куплено товаров данного типа?\n",
    "  - какие пары товаров покупались вместе чаще всего?\n",
    "  - какие товары чаще всего покупались вместе с данным товаром?\n",
    "\n",
    "Пожалуйста, объясните, почему вы выбрали именно ту, а не иную архитектуру."
   ]
  },
  {
   "cell_type": "markdown",
   "metadata": {
    "nbgrader": {
     "grade": true,
     "grade_id": "cell-3a91d78554fcc587",
     "locked": false,
     "points": 1.5,
     "schema_version": 2,
     "solution": true
    }
   },
   "source": [
    "**Необходим быстрый доступ к строкам. Фоматы COO, DOC, CSC работают достаточно медленно с доступом к строкам. Формат LIL слишком много памяти ест и преобразования с LIL к другим форматам происходит очень медленно. Поэтому для решения этой задачи был выбран формат CSR.**"
   ]
  },
  {
   "cell_type": "markdown",
   "metadata": {
    "nbgrader": {
     "grade": false,
     "grade_id": "cell-469b1477b15215e3",
     "locked": true,
     "schema_version": 2,
     "solution": false
    }
   },
   "source": [
    "Загрузим данные:"
   ]
  },
  {
   "cell_type": "code",
   "execution_count": 50,
   "metadata": {
    "nbgrader": {
     "grade": false,
     "grade_id": "cell-3d0002d3ffa3599d",
     "locked": true,
     "schema_version": 2,
     "solution": false
    }
   },
   "outputs": [],
   "source": [
    "import pandas as pd\n",
    "receipts = pd.read_csv('Online Retail Short.csv', sep=';')"
   ]
  },
  {
   "cell_type": "markdown",
   "metadata": {
    "nbgrader": {
     "grade": false,
     "grade_id": "cell-9e50e8d539aff169",
     "locked": true,
     "schema_version": 2,
     "solution": false
    }
   },
   "source": [
    "Распечатаем первые несколько строк, чтобы осознать структуру данных:"
   ]
  },
  {
   "cell_type": "code",
   "execution_count": 51,
   "metadata": {
    "nbgrader": {
     "grade": false,
     "grade_id": "cell-8fd2b6276fcea518",
     "locked": true,
     "schema_version": 2,
     "solution": false
    }
   },
   "outputs": [
    {
     "data": {
      "text/html": [
       "<div>\n",
       "<style scoped>\n",
       "    .dataframe tbody tr th:only-of-type {\n",
       "        vertical-align: middle;\n",
       "    }\n",
       "\n",
       "    .dataframe tbody tr th {\n",
       "        vertical-align: top;\n",
       "    }\n",
       "\n",
       "    .dataframe thead th {\n",
       "        text-align: right;\n",
       "    }\n",
       "</style>\n",
       "<table border=\"1\" class=\"dataframe\">\n",
       "  <thead>\n",
       "    <tr style=\"text-align: right;\">\n",
       "      <th></th>\n",
       "      <th>Unnamed: 0</th>\n",
       "      <th>InvoiceNo</th>\n",
       "      <th>StockCode</th>\n",
       "      <th>Description</th>\n",
       "    </tr>\n",
       "  </thead>\n",
       "  <tbody>\n",
       "    <tr>\n",
       "      <th>0</th>\n",
       "      <td>0</td>\n",
       "      <td>536365</td>\n",
       "      <td>85123A</td>\n",
       "      <td>WHITE HANGING HEART T-LIGHT HOLDER</td>\n",
       "    </tr>\n",
       "    <tr>\n",
       "      <th>1</th>\n",
       "      <td>1</td>\n",
       "      <td>536365</td>\n",
       "      <td>71053</td>\n",
       "      <td>WHITE METAL LANTERN</td>\n",
       "    </tr>\n",
       "    <tr>\n",
       "      <th>2</th>\n",
       "      <td>2</td>\n",
       "      <td>536365</td>\n",
       "      <td>84406B</td>\n",
       "      <td>CREAM CUPID HEARTS COAT HANGER</td>\n",
       "    </tr>\n",
       "    <tr>\n",
       "      <th>3</th>\n",
       "      <td>3</td>\n",
       "      <td>536365</td>\n",
       "      <td>84029G</td>\n",
       "      <td>KNITTED UNION FLAG HOT WATER BOTTLE</td>\n",
       "    </tr>\n",
       "    <tr>\n",
       "      <th>4</th>\n",
       "      <td>4</td>\n",
       "      <td>536365</td>\n",
       "      <td>84029E</td>\n",
       "      <td>RED WOOLLY HOTTIE WHITE HEART.</td>\n",
       "    </tr>\n",
       "  </tbody>\n",
       "</table>\n",
       "</div>"
      ],
      "text/plain": [
       "   Unnamed: 0 InvoiceNo StockCode                          Description\n",
       "0           0    536365    85123A   WHITE HANGING HEART T-LIGHT HOLDER\n",
       "1           1    536365     71053                  WHITE METAL LANTERN\n",
       "2           2    536365    84406B       CREAM CUPID HEARTS COAT HANGER\n",
       "3           3    536365    84029G  KNITTED UNION FLAG HOT WATER BOTTLE\n",
       "4           4    536365    84029E       RED WOOLLY HOTTIE WHITE HEART."
      ]
     },
     "execution_count": 51,
     "metadata": {},
     "output_type": "execute_result"
    }
   ],
   "source": [
    "receipts.head()"
   ]
  },
  {
   "cell_type": "markdown",
   "metadata": {
    "nbgrader": {
     "grade": false,
     "grade_id": "cell-0cb7690c039314a0",
     "locked": true,
     "schema_version": 2,
     "solution": false
    }
   },
   "source": [
    "А теперь та самая функция. Вам могут пригодиться следующие конструкции:\n",
    "\n",
    "* ``for name, group in data.groupby('InvoiceNo')`` --- цикл, в котором ``name`` будут различными значениями ``InvoiceNo``, а ``group`` --- кусками нашего ``DataFrame`` с заданным значением ``InvoiceNo``.\n",
    "* ``for g1, g2 in itertools.combinations(list(group['StockCode']), 2)`` --- цикл, пробегающий пары различных элементов (сочетания по 2) из списка товаров из заданной группы.\n"
   ]
  },
  {
   "cell_type": "code",
   "execution_count": 75,
   "metadata": {},
   "outputs": [],
   "source": [
    "import scipy.sparse as sps\n",
    "import itertools\n",
    "import numpy as np\n",
    "\n",
    "stoock_id = {idx: elem for idx,elem in enumerate(receipts['StockCode'].unique())}\n",
    "id_stoock = {elem: idx for idx,elem in enumerate(receipts['StockCode'].unique())}\n",
    "\n",
    "def CreateMatrix(data):\n",
    "    '''\n",
    "    Ввод\n",
    "    -----\n",
    "    receipts: структура pandas.DataFrame\n",
    "    \n",
    "    Вывод\n",
    "    ------\n",
    "    res: разреженная матрица\n",
    "    '''\n",
    "    nrows = len(id_stoock)\n",
    "    matrix = np.zeros((nrows, nrows))\n",
    "    for name, group in data.groupby('InvoiceNo'):\n",
    "        group = group['StockCode'].unique()\n",
    "        for g1, g2 in itertools.combinations(group, 2):\n",
    "            matrix[id_stoock[g1], id_stoock[g2]] += 1\n",
    "            matrix[id_stoock[g2], id_stoock[g1]] += 1\n",
    "            \n",
    "    matrix = sps.csc_matrix(matrix) \n",
    "    return matrix"
   ]
  },
  {
   "cell_type": "markdown",
   "metadata": {
    "nbgrader": {
     "grade": false,
     "grade_id": "cell-a4e73b53365f6a4e",
     "locked": true,
     "schema_version": 2,
     "solution": false
    }
   },
   "source": [
    "А теперь с помощью созданной вами матрицы ответьте на несколько вопросов:\n",
    "\n",
    "1) Какая пара товаров была куплена вместе наибольшее число раз? Пожалуйста, в качестве ответа укажите не id, а названия из столбца ``Descriptions``.\n",
    "\n",
    "2) Что чаще всего покупали вместе с ``KNITTED UNION FLAG HOT WATER BOTTLE``?\n",
    "\n",
    "В вашем ноутбуке должно быть продемонстрировано, как вы это находите с помощью матрицы!"
   ]
  },
  {
   "cell_type": "code",
   "execution_count": 76,
   "metadata": {},
   "outputs": [],
   "source": [
    "csr = CreateMatrix(receipts)"
   ]
  },
  {
   "cell_type": "markdown",
   "metadata": {},
   "source": [
    "###### 1) Какая пара товаров была куплена вместе наибольшее число раз? "
   ]
  },
  {
   "cell_type": "code",
   "execution_count": 77,
   "metadata": {},
   "outputs": [],
   "source": [
    "i, j = np.unravel_index(csr.argmax(), csr.shape)"
   ]
  },
  {
   "cell_type": "code",
   "execution_count": 78,
   "metadata": {},
   "outputs": [
    {
     "name": "stdout",
     "output_type": "stream",
     "text": [
      "ROSES REGENCY TEACUP AND SAUCER  GREEN REGENCY TEACUP AND SAUCER\n"
     ]
    }
   ],
   "source": [
    "max_buy_1 = receipts['Description'][receipts['StockCode']==stoock_id[i]].iloc[0]\n",
    "max_buy_2 = receipts['Description'][receipts['StockCode']==stoock_id[j]].iloc[0]\n",
    "print(max_buy_1, max_buy_2)"
   ]
  },
  {
   "cell_type": "markdown",
   "metadata": {},
   "source": [
    "**Пара ``ROSES REGENCY TEACUP AND SAUCER`` и ``GREEN REGENCY TEACUP AND SAUCER`` была куплена больше всего раз**"
   ]
  },
  {
   "cell_type": "markdown",
   "metadata": {},
   "source": [
    "###### 2) Что чаще всего покупали вместе с ``KNITTED UNION FLAG HOT WATER BOTTLE``?"
   ]
  },
  {
   "cell_type": "code",
   "execution_count": 87,
   "metadata": {},
   "outputs": [],
   "source": [
    "stoock = receipts['StockCode'][receipts['Description']=='KNITTED UNION FLAG HOT WATER BOTTLE'].iloc[0]"
   ]
  },
  {
   "cell_type": "code",
   "execution_count": 88,
   "metadata": {},
   "outputs": [
    {
     "name": "stdout",
     "output_type": "stream",
     "text": [
      "CHOCOLATE HOT WATER BOTTLE\n"
     ]
    }
   ],
   "source": [
    "argmax = csr[id_stoock[stoock]].argmax()\n",
    "print(receipts['Description'][receipts['StockCode']==stoock_id[argmax]].iloc[0])"
   ]
  },
  {
   "cell_type": "markdown",
   "metadata": {},
   "source": [
    "** Чаще всего с ``KNITTED UNION FLAG HOT WATER BOTTLE`` покупали ``CHOCOLATE HOT WATER BOTTLE``**"
   ]
  }
 ],
 "metadata": {
  "celltoolbar": "Create Assignment",
  "kernelspec": {
   "display_name": "Python 3",
   "language": "python",
   "name": "python3"
  },
  "language_info": {
   "codemirror_mode": {
    "name": "ipython",
    "version": 3
   },
   "file_extension": ".py",
   "mimetype": "text/x-python",
   "name": "python",
   "nbconvert_exporter": "python",
   "pygments_lexer": "ipython3",
   "version": "3.6.8"
  },
  "toc": {
   "base_numbering": 1,
   "nav_menu": {},
   "number_sections": true,
   "sideBar": true,
   "skip_h1_title": false,
   "title_cell": "Table of Contents",
   "title_sidebar": "Contents",
   "toc_cell": false,
   "toc_position": {},
   "toc_section_display": true,
   "toc_window_display": false
  }
 },
 "nbformat": 4,
 "nbformat_minor": 2
}
